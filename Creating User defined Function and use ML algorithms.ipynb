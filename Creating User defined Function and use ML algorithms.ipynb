{
 "cells": [
  {
   "cell_type": "raw",
   "id": "5140819d",
   "metadata": {},
   "source": [
    "# This function is for Randomforest. After creating the user defined python function we can reuse the code.\n",
    "#Above all writing functions and creating algorithms are best practise and known as 'Generic programming'"
   ]
  },
  {
   "cell_type": "code",
   "execution_count": 1,
   "id": "1d38753d",
   "metadata": {},
   "outputs": [],
   "source": [
    "import pandas as pd  \n",
    "import sklearn.preprocessing as skp\n",
    "from sklearn.model_selection import train_test_split  \n",
    "from sklearn.ensemble import RandomForestClassifier\n",
    "from sklearn.metrics import confusion_matrix,classification_report,accuracy_score"
   ]
  },
  {
   "cell_type": "code",
   "execution_count": 2,
   "id": "a0e8fcfd",
   "metadata": {},
   "outputs": [],
   "source": [
    "def preprocessing(df):\n",
    "    df= df.dropna()\n",
    "    nonnumericcols = df.select_dtypes(include = \"object\").columns\n",
    "    print (nonnumericcols)\n",
    "    le = skp.LabelEncoder()\n",
    "    for textcol in nonnumericcols:\n",
    "        le.fit(df[textcol])\n",
    "        df[textcol] = le.transform(df[textcol])\n",
    "    return df"
   ]
  },
  {
   "cell_type": "code",
   "execution_count": 3,
   "id": "53461501",
   "metadata": {},
   "outputs": [],
   "source": [
    "def split(df,testratio,opcolumn):\n",
    "    Y = df[opcolumn]\n",
    "    X =df.drop(opcolumn,axis=1)\n",
    "    X_train,X_test,Y_train,Y_test =train_test_split(X,Y,test_size=testratio,random_state = 0)\n",
    "    return (X_train,X_test,Y_train,Y_test)"
   ]
  },
  {
   "cell_type": "code",
   "execution_count": 4,
   "id": "0f25ca7a",
   "metadata": {},
   "outputs": [],
   "source": [
    "def model(X_train,X_test,Y_train,Y_test,n_estimators):\n",
    "    model = RandomForestClassifier(n_estimators)\n",
    "    model.fit(X_train,Y_train)\n",
    "    return model"
   ]
  },
  {
   "cell_type": "code",
   "execution_count": 5,
   "id": "ce7ee7d7",
   "metadata": {},
   "outputs": [],
   "source": [
    "def validate(X_test,Y_test, model):\n",
    "    y_pred = model.predict(X_test)\n",
    "    print(confusion_matrix(y_pred,Y_test))\n",
    "    print(classification_report(y_pred,Y_test))\n",
    "    print(\"Accuracy\",accuracy_score(Y_test,y_pred))"
   ]
  },
  {
   "cell_type": "code",
   "execution_count": 6,
   "id": "fb07bea2",
   "metadata": {},
   "outputs": [],
   "source": [
    "dataset = pd.read_csv(\"imports-85.data\",header=None) #data\n",
    "dataset.columns=['symboling', #columns\n",
    "'normalized-losses',\n",
    "'make',\n",
    "'fuel-type',\n",
    "'aspiration',\n",
    "'num-of-doors',\n",
    "'body-style',\n",
    "'drive-wheels',\n",
    "'engine-location',\n",
    "'wheel-base',\n",
    "'length',\n",
    "'width',\n",
    "'height',\n",
    "'curb-weight',\n",
    "'engine-type',\n",
    "'num-of-cylinders',\n",
    "'engine-size',\n",
    "'fuel-system',\n",
    "'bore',\n",
    "'stroke',\n",
    "'compression-ratio',\n",
    "'horsepower',\n",
    "'peak-rpm',\n",
    "'city-mpg',\n",
    "'highway-mpg',\n",
    "'price']\n"
   ]
  },
  {
   "cell_type": "code",
   "execution_count": 7,
   "id": "5e132340",
   "metadata": {},
   "outputs": [
    {
     "name": "stdout",
     "output_type": "stream",
     "text": [
      "Index(['normalized-losses', 'make', 'fuel-type', 'aspiration', 'num-of-doors',\n",
      "       'body-style', 'drive-wheels', 'engine-location', 'engine-type',\n",
      "       'num-of-cylinders', 'fuel-system', 'bore', 'stroke', 'horsepower',\n",
      "       'peak-rpm', 'price'],\n",
      "      dtype='object')\n",
      "[[ 2  0  0  0  0]\n",
      " [ 0 11  2  1  0]\n",
      " [ 0  1  7  2  1]\n",
      " [ 0  0  0  6  0]\n",
      " [ 0  0  1  1  6]]\n",
      "              precision    recall  f1-score   support\n",
      "\n",
      "          -1       1.00      1.00      1.00         2\n",
      "           0       0.92      0.79      0.85        14\n",
      "           1       0.70      0.64      0.67        11\n",
      "           2       0.60      1.00      0.75         6\n",
      "           3       0.86      0.75      0.80         8\n",
      "\n",
      "    accuracy                           0.78        41\n",
      "   macro avg       0.81      0.83      0.81        41\n",
      "weighted avg       0.80      0.78      0.78        41\n",
      "\n",
      "Accuracy 0.7804878048780488\n"
     ]
    }
   ],
   "source": [
    "dataset = preprocessing(dataset)\n",
    "X_train,X_test,Y_train,Y_test =split(dataset,0.20,'symboling')\n",
    "model = model(X_train,X_test,Y_train,Y_test,20)\n",
    "validate(X_test,Y_test,model)"
   ]
  },
  {
   "cell_type": "code",
   "execution_count": null,
   "id": "b493fcad",
   "metadata": {},
   "outputs": [],
   "source": []
  }
 ],
 "metadata": {
  "kernelspec": {
   "display_name": "Python 3",
   "language": "python",
   "name": "python3"
  },
  "language_info": {
   "codemirror_mode": {
    "name": "ipython",
    "version": 3
   },
   "file_extension": ".py",
   "mimetype": "text/x-python",
   "name": "python",
   "nbconvert_exporter": "python",
   "pygments_lexer": "ipython3",
   "version": "3.6.13"
  }
 },
 "nbformat": 4,
 "nbformat_minor": 5
}
