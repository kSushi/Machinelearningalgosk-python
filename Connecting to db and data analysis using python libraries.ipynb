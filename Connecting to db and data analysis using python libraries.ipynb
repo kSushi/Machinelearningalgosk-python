{
 "cells": [
  {
   "cell_type": "code",
   "execution_count": null,
   "metadata": {},
   "outputs": [],
   "source": [
    "import pandas as pd\n",
    "import numpy as np\n",
    "import pymssql\n",
    "import os"
   ]
  },
  {
   "cell_type": "code",
   "execution_count": null,
   "metadata": {},
   "outputs": [],
   "source": [
    "server = \" \"\n",
    "user = \" \"\n",
    "password = \" \"\n",
    "db_name = \" \"\n",
    "\n",
    "conn = pymssql.connect(server, user, password, db_name)"
   ]
  },
  {
   "cell_type": "code",
   "execution_count": null,
   "metadata": {},
   "outputs": [],
   "source": [
    "base_query = \"\"\"\n",
    "\n",
    "             \"\"\""
   ]
  },
  {
   "cell_type": "code",
   "execution_count": null,
   "metadata": {},
   "outputs": [],
   "source": [
    "base = pd.read_sql(base_query,conn)        \n",
    "base.head()\n",
    "df=base\n",
    "df.head(5)"
   ]
  },
  {
   "cell_type": "code",
   "execution_count": null,
   "metadata": {},
   "outputs": [],
   "source": [
    "#Example for pivoting the dataframe\n",
    "df_final_pivot = pd.pivot_table(df[['Created_By', 'Ticket_Status', 'Ticket_No']],\n",
    "                                            index=['Created_By'],\n",
    "                                            columns=['Ticket_Status'], aggfunc=['count'], fill_value=0, ## dropna=True,\n",
    "                                            values=['Ticket_No'])\n",
    "df_final_pivot = pd.DataFrame(df_final_pivot.to_records())"
   ]
  },
  {
   "cell_type": "code",
   "execution_count": null,
   "metadata": {},
   "outputs": [],
   "source": [
    "df_final_pivot.head()"
   ]
  },
  {
   "cell_type": "code",
   "execution_count": null,
   "metadata": {},
   "outputs": [],
   "source": [
    "df_final_pivot.columns"
   ]
  },
  {
   "cell_type": "code",
   "execution_count": null,
   "metadata": {},
   "outputs": [],
   "source": [
    "#Renaming the column names and deriving new names using dictonary\n",
    "df_final_pivot=df_final_pivot.rename(columns={\"('count', 'Ticket_No', 'COMPLETED')\" :\"Completed_Tickets\",\n",
    "                                              \"('count', 'Ticket_No', 'Completed')\":\"Completed_Tickets\",\n",
    "                                              \"('count', 'Ticket_No', 'Pending')\" : \"Pending_Tickets\",\n",
    "                                              \"('count', 'Ticket_No', 'pending')\" : \"Pending_Tickets\"\n",
    "                                             })\n",
    "df_final_pivot.head()"
   ]
  },
  {
   "cell_type": "code",
   "execution_count": null,
   "metadata": {},
   "outputs": [],
   "source": [
    "#Adding new column and sum all the columns\n",
    "df_final_pivot['Total']=df_final_pivot.sum(axis=1)\n",
    "df_final_pivot.head()"
   ]
  },
  {
   "cell_type": "code",
   "execution_count": null,
   "metadata": {},
   "outputs": [],
   "source": [
    "#Sum of the columns with the same name\n",
    "df_final_pivot['Tickets_Completed_count']=df_final_pivot['Completed_Tickets'].sum(axis=1)\n",
    "df_final_pivot['Tickets_Pending_count']=df_final_pivot['Pending_Tickets'].sum(axis=1)\n",
    "df_final_pivot.head(25)"
   ]
  },
  {
   "cell_type": "code",
   "execution_count": null,
   "metadata": {},
   "outputs": [],
   "source": [
    "#Calculating percentage and derving a new column\n",
    "#df_final_pivot['FTR']=df_final_pivot['Total']/df_final_pivot[\"('count', 'Ticket_No', 'Completed')\"]*100\n",
    "df_final_pivot['FTR']=df_final_pivot[('Tickets_Completed_count')]/df_final_pivot['Total']*100\n",
    "#df_final_pivot['FTR_round']=round(df_final_pivot['FTR'])\n",
    "df_final_pivot['FTR_round']=np.round(df_final_pivot['FTR'],0)\n",
    "df_final_pivot.head()"
   ]
  },
  {
   "cell_type": "code",
   "execution_count": null,
   "metadata": {},
   "outputs": [],
   "source": [
    "#Ranking the percentage column\n",
    "#df_final_pivot['Emp_Rank']=df_final_pivot.groupby('Created_By')['FTR_round'].rank(\"dense\", ascending=False)\n",
    "df_final_pivot['Emp_Rank']=df_final_pivot['FTR_round'].rank()\n",
    "df_final_pivot.head()"
   ]
  },
  {
   "cell_type": "code",
   "execution_count": null,
   "metadata": {},
   "outputs": [],
   "source": [
    "#Exporting the data in csv file format\n",
    "df_final_pivot.to_csv('Current_month-hd.csv')"
   ]
  }
 ],
 "metadata": {
  "kernelspec": {
   "display_name": "Python 3",
   "language": "python",
   "name": "python3"
  },
  "language_info": {
   "codemirror_mode": {
    "name": "ipython",
    "version": 3
   },
   "file_extension": ".py",
   "mimetype": "text/x-python",
   "name": "python",
   "nbconvert_exporter": "python",
   "pygments_lexer": "ipython3",
   "version": "3.7.6"
  }
 },
 "nbformat": 4,
 "nbformat_minor": 4
}
